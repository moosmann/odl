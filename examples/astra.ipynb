{
 "cells": [
  {
   "cell_type": "code",
   "execution_count": 8,
   "metadata": {},
   "outputs": [],
   "source": [
    "from __future__ import print_function, division, absolute_import\n",
    "from future import standard_library\n",
    "standard_library.install_aliases()\n",
    "\n",
    "%matplotlib inline\n",
    "\n",
    "# External\n",
    "import numpy as np\n",
    "# ODL\n",
    "from odl import (Interval, Rectangle, FunctionSpace,\n",
    "                 uniform_sampling, uniform_discr)\n",
    "from odl.util.testutils import all_equal, is_subdict\n",
    "# TomODL\n",
    "from odl.tomo import ASTRA_AVAILABLE\n",
    "from odl.tomo import (Parallel2dGeometry, FanFlatGeometry)\n",
    "from odl.tomo.backends.astra_cpu import (astra_cpu_forward_projector_call,\n",
    "                                        astra_cpu_backward_projector_call)\n",
    "from odl.tomo.util.testutils import skip_if_no_astra"
   ]
  },
  {
   "cell_type": "code",
   "execution_count": 9,
   "metadata": {},
   "outputs": [],
   "source": [
    "# DiscreteLp element\n",
    "vol_space = FunctionSpace(Rectangle([-1, -1.1], [1, 1.1]))\n",
    "nvoxels = (50, 55)\n",
    "discr_vol_space = uniform_discr(vol_space, nvoxels, dtype='float32')\n",
    "discr_data = discr_vol_space.element(1)"
   ]
  },
  {
   "cell_type": "code",
   "execution_count": 10,
   "metadata": {},
   "outputs": [],
   "source": [
    "# motion and detector parameters, and geometry\n",
    "angle_offset = 0\n",
    "angle_intvl = Interval(0, 2 * np.pi)\n",
    "angle_grid = uniform_sampling(angle_intvl, 36, as_midp=False)\n",
    "dparams = Interval(-2, 2)\n",
    "det_grid = uniform_sampling(dparams, 40)\n",
    "geom_p2d = Parallel2dGeometry(angle_intvl, dparams, angle_grid, det_grid)\n",
    "src_rad = 1000\n",
    "det_rad = 100\n",
    "geom_ff = FanFlatGeometry(angle_intvl, dparams, src_rad, det_rad,\n",
    "                              angle_grid, det_grid, angle_offset)"
   ]
  },
  {
   "cell_type": "code",
   "execution_count": 11,
   "metadata": {},
   "outputs": [],
   "source": [
    "# DiscreteLp\n",
    "ind = 1\n",
    "proj_rect = angle_intvl.insert(dparams, ind)\n",
    "proj_space = FunctionSpace(proj_rect)\n",
    "# TODO: question: intervals have default index, grids not\n",
    "npixels = angle_grid.insert(det_grid, ind).shape\n",
    "discr_proj_space = uniform_discr(proj_space, npixels, dtype='float32')"
   ]
  },
  {
   "cell_type": "code",
   "execution_count": 12,
   "metadata": {},
   "outputs": [
    {
     "name": "stdout",
     "output_type": "stream",
     "text": [
      "\n",
      "\n",
      " angle interval: [0.0, 6.28318530718] \n",
      " det params: [-2.0, 2.0] \n",
      " proj rectangle: [0.0, 6.28318530718] x [-2.0, 2.0]\n",
      " vol data: (50, 55) 1.0 1.0 1.0 nearest\n",
      " p2d proj: (36, 40) 0.0 2.87967038155 1.08853 nearest\n"
     ]
    }
   ],
   "source": [
    "print('\\n\\n angle interval:', angle_intvl, '\\n det params:', dparams, \n",
    "      '\\n proj rectangle:', proj_rect) \n",
    "print(' vol data:', discr_data.shape, np.min(discr_data), np.max(\n",
    "    discr_data), np.mean(discr_data), discr_vol_space.interp)\n",
    "\n",
    "save_dir = '/home/jmoosmann/Documents/astra_odl/forward/'\n",
    "\n",
    "# PARALLEL 2D: forward\n",
    "proj_data = astra_cpu_forward_projector_call(discr_data, geom_p2d, discr_proj_space)\n",
    "print(' p2d proj:', proj_data.shape, np.min(proj_data), np.max(\n",
    "proj_data), np.mean(proj_data), discr_proj_space.interp)"
   ]
  },
  {
   "cell_type": "code",
   "execution_count": 13,
   "metadata": {},
   "outputs": [
    {
     "data": {
      "image/png": "[encoded data removed]"
     },
     "output_type": "display_data",
     "metadata": {}
    }
   ],
   "source": [
    "proj_data.show('imshow', saveto=save_dir+'parallel2d_cpu.png', title='PARALLEL 2D')"
   ]
  },
  {
   "cell_type": "code",
   "execution_count": 14,
   "metadata": {},
   "outputs": [],
   "source": [
    "# PARALLEL 2D: backward\n",
    "# reco_data = astra_cpu_backward_projector_call(proj_data, geom_p2d,\n",
    "#                                               discr_vol_space)\n",
    "\n",
    "# FANFLAT: forward\n",
    "proj_data = astra_cpu_forward_projector_call(discr_data, geom_ff, discr_proj_space)"
   ]
  },
  {
   "cell_type": "code",
   "execution_count": null,
   "metadata": {},
   "outputs": [],
   "source": [
    ""
   ]
  },
  {
   "cell_type": "code",
   "execution_count": null,
   "metadata": {},
   "outputs": [],
   "source": [
    ""
   ]
  }
 ],
 "metadata": {
  "kernelspec": {
   "display_name": "Python 2",
   "language": "python",
   "name": "python2"
  },
  "language_info": {
   "codemirror_mode": {
    "name": "ipython",
    "version": 2.0
   },
   "file_extension": ".py",
   "mimetype": "text/x-python",
   "name": "python",
   "nbconvert_exporter": "python",
   "pygments_lexer": "ipython2",
   "version": "2.7.6"
  }
 },
 "nbformat": 4,
 "nbformat_minor": 0
}