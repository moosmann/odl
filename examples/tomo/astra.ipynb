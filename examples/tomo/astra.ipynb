{
 "cells": [
  {
   "cell_type": "code",
   "execution_count": 69,
   "metadata": {},
   "outputs": [],
   "source": [
    "from __future__ import print_function, division\n",
    "import numpy as np\n",
    "import odl"
   ]
  },
  {
   "cell_type": "code",
   "execution_count": 129,
   "metadata": {},
   "outputs": [
    {
     "name": "stdout",
     "output_type": "stream",
     "text": [
      "mag: 1.001\n",
      "angle: 0.0628318530718\n",
      "vol: 0.4\n",
      "det: 1.0\n",
      "left: 402415.368042\n",
      "right: 2560000.0\n",
      "ratio: 0.157193503141 6.36158607077\n",
      "ratio: 0.987675909322 1.01247786907\n"
     ]
    }
   ],
   "source": [
    "n = 100\n",
    "n_voxel = [n]*3\n",
    "n_pixel = [n]*2\n",
    "n_angle = n\n",
    "\n",
    "# Discrete reconstruction space\n",
    "discr_reco_space = odl.uniform_discr([-20, -20, -20], [20, 20, 20],\n",
    "                                     n_voxel, dtype='float32')\n",
    "\n",
    "# Geometry\n",
    "src_rad = 10000\n",
    "det_rad = 10\n",
    "angle_intvl = odl.Interval(0, 2 * np.pi)\n",
    "dparams = odl.Rectangle([-50, -50], [50, 50])\n",
    "agrid = odl.uniform_sampling(angle_intvl, n_angle)\n",
    "dgrid = odl.uniform_sampling(dparams, n_pixel)\n",
    "geom = odl.tomo.CircularConeFlatGeometry(angle_intvl, dparams,\n",
    "                                         src_rad, det_rad,\n",
    "                                         agrid, dgrid)\n",
    "\n",
    "# X-ray transform\n",
    "A = odl.tomo.DiscreteXrayTransform(discr_reco_space, geom,\n",
    "                                   backend='astra_cuda')\n",
    "\n",
    "# Create phantom\n",
    "#f = odl.util.shepp_logan(discr_reco_space)\n",
    "f = discr_reco_space.one()\n",
    "\n",
    "# Magnification and strides\n",
    "mag = (src_rad + det_rad) / src_rad\n",
    "astride = agrid.stride[0]\n",
    "vstride = discr_reco_space.grid.stride[0]\n",
    "dstride = dgrid.stride[0]\n",
    "\n",
    "Af = A(f)\n",
    "g = A.range.one()\n",
    "Adg = A.adjoint(g)\n",
    "\n",
    "l = Af.inner(g) \n",
    "r = f.inner(Adg)\n",
    "lr = l/r\n",
    "print('mag: {}\\nangle: {}\\nvol: {}\\ndet: {}'.format(mag, astride, vstride, dstride))\n",
    "print('left: {}\\nright: {}'.format(l,r))\n",
    "print('ratio: {} {}'.format(lr, 1/lr))\n",
    "lr2 = lr * (2 * np.pi)\n",
    "print('ratio: {} {}'.format(lr2, 1/lr2))"
   ]
  },
  {
   "cell_type": "code",
   "execution_count": 111,
   "metadata": {},
   "outputs": [
    {
     "data": {
      "text/plain": [
       "7.500000001875001"
      ]
     },
     "execution_count": 111,
     "output_type": "execute_result",
     "metadata": {}
    }
   ],
   "source": [
    "angle_intvl"
   ]
  },
  {
   "cell_type": "code",
   "execution_count": 130,
   "metadata": {},
   "outputs": [
    {
     "data": {
      "text/plain": [
       "1.0020009999999997"
      ]
     },
     "execution_count": 130,
     "output_type": "execute_result",
     "metadata": {}
    }
   ],
   "source": [
    "1.001**2"
   ]
  },
  {
   "cell_type": "code",
   "execution_count": null,
   "metadata": {},
   "outputs": [],
   "source": [
    ""
   ]
  }
 ],
 "metadata": {
  "kernelspec": {
   "display_name": "Python 2",
   "language": "python",
   "name": "python2"
  },
  "language_info": {
   "codemirror_mode": {
    "name": "ipython",
    "version": 2.0
   },
   "file_extension": ".py",
   "mimetype": "text/x-python",
   "name": "python",
   "nbconvert_exporter": "python",
   "pygments_lexer": "ipython2",
   "version": "2.7.6"
  }
 },
 "nbformat": 4,
 "nbformat_minor": 0
}