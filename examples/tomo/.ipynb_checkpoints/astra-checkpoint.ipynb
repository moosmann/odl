{
 "cells": [
  {
   "cell_type": "code",
   "execution_count": 1,
   "metadata": {
    "collapsed": true
   },
   "outputs": [],
   "source": [
    "import numpy as np\n",
    "import odl"
   ]
  },
  {
   "cell_type": "code",
   "execution_count": 2,
   "metadata": {
    "collapsed": true
   },
   "outputs": [],
   "source": [
    "n = 300\n",
    "n_voxel = [n]*3\n",
    "n_pixel = [n]*2\n",
    "n_angle = n\n",
    "\n",
    "# Discrete reconstruction space\n",
    "discr_reco_space = odl.uniform_discr([-20, -20, -20], [20, 20, 20],\n",
    "                                     n_voxel, dtype='float32')\n",
    "\n",
    "# Geometry\n",
    "src_rad = 300\n",
    "det_rad = 100\n",
    "angle_intvl = odl.Interval(0, 2 * np.pi)\n",
    "dparams = odl.Rectangle([-50, -50], [50, 50])\n",
    "agrid = odl.uniform_sampling(angle_intvl, n_angle)\n",
    "dgrid = odl.uniform_sampling(dparams, n_pixel)\n",
    "geom = odl.tomo.CircularConeFlatGeometry(angle_intvl, dparams,\n",
    "                                         src_rad, det_rad,\n",
    "                                         agrid, dgrid)\n",
    "\n",
    "# X-ray transform\n",
    "A = odl.tomo.DiscreteXrayTransform(discr_reco_space, geom,\n",
    "                                   backend='astra_cuda')\n",
    "\n",
    "# Create phantom\n",
    "phantom = odl.util.shepp_logan(discr_reco_space)\n"
   ]
  },
  {
   "cell_type": "code",
   "execution_count": 3,
   "metadata": {
    "collapsed": true
   },
   "outputs": [],
   "source": [
    "f = phantom"
   ]
  },
  {
   "cell_type": "code",
   "execution_count": null,
   "metadata": {
    "collapsed": true
   },
   "outputs": [],
   "source": [
    "A(f)"
   ]
  }
 ],
 "metadata": {
  "kernelspec": {
   "display_name": "Python 2",
   "language": "python",
   "name": "python2"
  },
  "language_info": {
   "codemirror_mode": {
    "name": "ipython",
    "version": 2
   },
   "file_extension": ".py",
   "mimetype": "text/x-python",
   "name": "python",
   "nbconvert_exporter": "python",
   "pygments_lexer": "ipython2",
   "version": "2.7.6"
  }
 },
 "nbformat": 4,
 "nbformat_minor": 0
}
